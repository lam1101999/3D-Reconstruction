{
 "cells": [
  {
   "cell_type": "code",
   "execution_count": 11,
   "metadata": {},
   "outputs": [
    {
     "name": "stdout",
     "output_type": "stream",
     "text": [
      "(4, 3, 2)\n",
      "[[ 2.  3.]\n",
      " [ 8.  9.]\n",
      " [14. 15.]\n",
      " [20. 21.]]\n",
      "(4, 2)\n"
     ]
    }
   ],
   "source": [
    "import numpy as np\n",
    "\n",
    "data = np.array([[[0,1],[2,3],[4,5]],\n",
    "                 [[6,7],[8,9],[10,11]],\n",
    "                 [[12,13],[14,15],[16,17]],\n",
    "                 [[18,19],[20,21],[22,23]],])\n",
    "\n",
    "print(data.shape)\n",
    "\n",
    "output = np.mean(data, axis=1)\n",
    "print(output)\n",
    "print(output.shape)"
   ]
  },
  {
   "cell_type": "code",
   "execution_count": 10,
   "metadata": {},
   "outputs": [
    {
     "name": "stdout",
     "output_type": "stream",
     "text": [
      "(2, 3)\n",
      "[2. 5.]\n",
      "(2,)\n"
     ]
    }
   ],
   "source": [
    "import numpy as np\n",
    "\n",
    "data = np.array([[1,2,3],\n",
    "                 [4,5,6],])\n",
    "\n",
    "print(data.shape)\n",
    "\n",
    "output = np.mean(data, axis=1)\n",
    "print(output)\n",
    "print(output.shape)"
   ]
  },
  {
   "cell_type": "code",
   "execution_count": 4,
   "metadata": {},
   "outputs": [
    {
     "name": "stdout",
     "output_type": "stream",
     "text": [
      "(3, 2, 2)\n",
      "[[[0 1]\n",
      "  [2 3]]\n",
      "\n",
      " [[0 1]\n",
      "  [4 5]]\n",
      "\n",
      " [[0 1]\n",
      "  [5 2]]]\n"
     ]
    }
   ],
   "source": [
    "import numpy as np\n",
    "points = np.array([[0,1],[2,3],[4,5],[5,2]])\n",
    "indices = np.array([[0,1],[0,2],[0,3]])\n",
    "\n",
    "edge = points[indices]\n",
    "print(edge.shape)\n",
    "print(edge)"
   ]
  },
  {
   "cell_type": "code",
   "execution_count": 8,
   "metadata": {},
   "outputs": [
    {
     "name": "stdout",
     "output_type": "stream",
     "text": [
      "[5 5]\n"
     ]
    }
   ],
   "source": [
    "import numpy as np\n",
    "\n",
    "points = np.array([[0,1],\n",
    "                   [2,3],\n",
    "                   [4,5],\n",
    "                   [5,2]])\n",
    "\n",
    "print(points.max(0))\n"
   ]
  },
  {
   "cell_type": "markdown",
   "metadata": {},
   "source": [
    "$\\lambda $\n",
    "$$\n",
    "f(x) = \\int_{-\\infty}^{\\infty} e^{-x^2} dx\n",
    "$$"
   ]
  },
  {
   "cell_type": "code",
   "execution_count": 13,
   "metadata": {},
   "outputs": [
    {
     "name": "stdout",
     "output_type": "stream",
     "text": [
      "tensor([11.], dtype=torch.float64)\n",
      "tensor([2.], dtype=torch.float64)\n"
     ]
    }
   ],
   "source": [
    "import torch\n",
    "\n",
    "w = torch.tensor([5], dtype=float, requires_grad=True)\n",
    "b = torch.tensor([2], dtype=float, requires_grad=True)\n",
    "\n",
    "y = w * 3 + b\n",
    "y.backward()\n",
    "b.requires_grad_(False)\n",
    "y = w*4+b\n",
    "y.backward()\n",
    "b.requires_grad_(True)\n",
    "y = w*4+b\n",
    "y.backward()\n",
    "print(w.grad)\n",
    "print(b.grad)"
   ]
  }
 ],
 "metadata": {
  "kernelspec": {
   "display_name": "python_3d",
   "language": "python",
   "name": "python3"
  },
  "language_info": {
   "codemirror_mode": {
    "name": "ipython",
    "version": 3
   },
   "file_extension": ".py",
   "mimetype": "text/x-python",
   "name": "python",
   "nbconvert_exporter": "python",
   "pygments_lexer": "ipython3",
   "version": "3.8.18"
  }
 },
 "nbformat": 4,
 "nbformat_minor": 2
}

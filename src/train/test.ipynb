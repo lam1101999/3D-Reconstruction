{
 "cells": [
  {
   "cell_type": "code",
   "execution_count": 11,
   "metadata": {},
   "outputs": [
    {
     "name": "stdout",
     "output_type": "stream",
     "text": [
      "(4, 3, 2)\n",
      "[[ 2.  3.]\n",
      " [ 8.  9.]\n",
      " [14. 15.]\n",
      " [20. 21.]]\n",
      "(4, 2)\n"
     ]
    }
   ],
   "source": [
    "import numpy as np\n",
    "\n",
    "data = np.array([[[0,1],[2,3],[4,5]],\n",
    "                 [[6,7],[8,9],[10,11]],\n",
    "                 [[12,13],[14,15],[16,17]],\n",
    "                 [[18,19],[20,21],[22,23]],])\n",
    "\n",
    "print(data.shape)\n",
    "\n",
    "output = np.mean(data, axis=1)\n",
    "print(output)\n",
    "print(output.shape)"
   ]
  },
  {
   "cell_type": "code",
   "execution_count": 10,
   "metadata": {},
   "outputs": [
    {
     "name": "stdout",
     "output_type": "stream",
     "text": [
      "(2, 3)\n",
      "[2. 5.]\n",
      "(2,)\n"
     ]
    }
   ],
   "source": [
    "import numpy as np\n",
    "\n",
    "data = np.array([[1,2,3],\n",
    "                 [4,5,6],])\n",
    "\n",
    "print(data.shape)\n",
    "\n",
    "output = np.mean(data, axis=1)\n",
    "print(output)\n",
    "print(output.shape)"
   ]
  },
  {
   "cell_type": "code",
   "execution_count": 4,
   "metadata": {},
   "outputs": [
    {
     "name": "stdout",
     "output_type": "stream",
     "text": [
      "(3, 2, 2)\n",
      "[[[0 1]\n",
      "  [2 3]]\n",
      "\n",
      " [[0 1]\n",
      "  [4 5]]\n",
      "\n",
      " [[0 1]\n",
      "  [5 2]]]\n"
     ]
    }
   ],
   "source": [
    "import numpy as np\n",
    "points = np.array([[0,1],[2,3],[4,5],[5,2]])\n",
    "indices = np.array([[0,1],[0,2],[0,3]])\n",
    "\n",
    "edge = points[indices]\n",
    "print(edge.shape)\n",
    "print(edge)"
   ]
  },
  {
   "cell_type": "code",
   "execution_count": 8,
   "metadata": {},
   "outputs": [
    {
     "name": "stdout",
     "output_type": "stream",
     "text": [
      "[5 5]\n"
     ]
    }
   ],
   "source": [
    "import numpy as np\n",
    "\n",
    "points = np.array([[0,1],\n",
    "                   [2,3],\n",
    "                   [4,5],\n",
    "                   [5,2]])\n",
    "\n",
    "print(points.max(0))\n"
   ]
  },
  {
   "cell_type": "markdown",
   "metadata": {},
   "source": [
    "$\\lambda $\n",
    "$$\n",
    "f(x) = \\int_{-\\infty}^{\\infty} e^{-x^2} dx\n",
    "$$"
   ]
  },
  {
   "cell_type": "code",
   "execution_count": 13,
   "metadata": {},
   "outputs": [
    {
     "name": "stdout",
     "output_type": "stream",
     "text": [
      "tensor([11.], dtype=torch.float64)\n",
      "tensor([2.], dtype=torch.float64)\n"
     ]
    }
   ],
   "source": [
    "import torch\n",
    "\n",
    "w = torch.tensor([5], dtype=float, requires_grad=True)\n",
    "b = torch.tensor([2], dtype=float, requires_grad=True)\n",
    "\n",
    "y = w * 3 + b\n",
    "y.backward()\n",
    "b.requires_grad_(False)\n",
    "y = w*4+b\n",
    "y.backward()\n",
    "b.requires_grad_(True)\n",
    "y = w*4+b\n",
    "y.backward()\n",
    "print(w.grad)\n",
    "print(b.grad)"
   ]
  },
  {
   "cell_type": "code",
   "execution_count": 7,
   "metadata": {},
   "outputs": [
    {
     "name": "stdout",
     "output_type": "stream",
     "text": [
      "tensor(2.0027)\n",
      "tensor(2.0027)\n",
      "tensor(0.8041)\n"
     ]
    }
   ],
   "source": [
    "import torch\n",
    "\n",
    "fake_data = torch.randn((100,3))\n",
    "target = torch.ones_like(fake_data)\n",
    "print(torch.nn.functional.mse_loss(fake_data, target))\n",
    "print((fake_data-target).pow(2).mean())\n",
    "\n",
    "fake_data = torch.nn.functional.sigmoid(fake_data)\n",
    "print(torch.nn.functional.binary_cross_entropy(fake_data, target))\n"
   ]
  },
  {
   "cell_type": "code",
   "execution_count": 72,
   "metadata": {},
   "outputs": [
    {
     "name": "stdout",
     "output_type": "stream",
     "text": [
      "tensor([[0.9046, 0.9336, 0.9667],\n",
      "        [0.9346, 0.9017, 0.9376],\n",
      "        [0.9602, 0.9335, 0.9366],\n",
      "        [0.9001, 0.9887, 0.9035],\n",
      "        [0.9528, 0.9021, 0.9912],\n",
      "        [0.9709, 0.9314, 0.9215],\n",
      "        [0.9592, 0.9524, 0.9820],\n",
      "        [0.9180, 0.9522, 0.9752],\n",
      "        [0.9231, 0.9658, 0.9682],\n",
      "        [0.9041, 0.9598, 0.9419],\n",
      "        [0.9747, 0.9842, 0.9472],\n",
      "        [0.9171, 0.9221, 0.9661],\n",
      "        [0.9960, 0.9687, 0.9582],\n",
      "        [0.9197, 0.9048, 0.9688],\n",
      "        [0.9629, 0.9048, 0.9719],\n",
      "        [0.9784, 0.9963, 0.9520],\n",
      "        [0.9272, 0.9165, 0.9242],\n",
      "        [0.9142, 0.9896, 0.9786],\n",
      "        [0.9827, 0.9003, 0.9465],\n",
      "        [0.9036, 0.9482, 0.9674],\n",
      "        [0.9737, 0.9564, 0.9417],\n",
      "        [0.9090, 0.9791, 0.9246],\n",
      "        [0.9651, 0.9698, 0.9457],\n",
      "        [0.9565, 0.9851, 0.9844],\n",
      "        [0.9886, 0.9244, 0.9842],\n",
      "        [0.9207, 0.9614, 0.9810],\n",
      "        [0.9709, 0.9786, 0.9214],\n",
      "        [0.9166, 0.9136, 0.9891],\n",
      "        [0.9547, 0.9594, 0.9968],\n",
      "        [0.9597, 0.9267, 0.9937],\n",
      "        [0.9000, 0.9280, 0.9462],\n",
      "        [0.9180, 0.9142, 0.9066],\n",
      "        [0.9969, 0.9842, 0.9716],\n",
      "        [0.9615, 0.9111, 0.9929],\n",
      "        [0.9760, 0.9497, 0.9691],\n",
      "        [0.9079, 0.9779, 0.9753],\n",
      "        [0.9383, 0.9233, 0.9484],\n",
      "        [0.9745, 0.9329, 0.9725],\n",
      "        [0.9690, 0.9931, 0.9782],\n",
      "        [0.9797, 0.9705, 0.9247],\n",
      "        [0.9117, 0.9387, 0.9829],\n",
      "        [0.9238, 0.9019, 0.9371],\n",
      "        [0.9779, 0.9325, 0.9116],\n",
      "        [0.9507, 0.9920, 0.9355],\n",
      "        [0.9376, 0.9549, 0.9460],\n",
      "        [0.9207, 0.9781, 0.9728],\n",
      "        [0.9938, 0.9131, 0.9175],\n",
      "        [0.9564, 0.9248, 0.9575],\n",
      "        [0.9306, 0.9937, 0.9500],\n",
      "        [0.9141, 0.9140, 0.9656],\n",
      "        [0.9180, 0.9683, 0.9588],\n",
      "        [0.9447, 0.9832, 0.9128],\n",
      "        [0.9135, 0.9424, 0.9518],\n",
      "        [0.9664, 0.9348, 0.9217],\n",
      "        [0.9412, 0.9197, 0.9675],\n",
      "        [0.9271, 0.9408, 0.9400],\n",
      "        [0.9051, 0.9240, 0.9903],\n",
      "        [0.9874, 0.9607, 0.9235],\n",
      "        [0.9224, 0.9693, 0.9676],\n",
      "        [0.9193, 0.9415, 0.9510],\n",
      "        [0.9705, 0.9692, 0.9801],\n",
      "        [0.9713, 0.9914, 0.9624],\n",
      "        [0.9278, 0.9581, 0.9443],\n",
      "        [0.9926, 0.9832, 0.9087],\n",
      "        [0.9011, 0.9909, 0.9392],\n",
      "        [0.9311, 0.9725, 0.9473],\n",
      "        [0.9687, 0.9152, 0.9113],\n",
      "        [0.9133, 0.9439, 0.9876],\n",
      "        [0.9423, 0.9196, 0.9758],\n",
      "        [0.9161, 0.9043, 0.9426],\n",
      "        [0.9042, 0.9817, 0.9652],\n",
      "        [0.9549, 0.9398, 0.9455],\n",
      "        [0.9530, 0.9184, 0.9231],\n",
      "        [0.9219, 0.9152, 0.9446],\n",
      "        [0.9751, 0.9607, 0.9778],\n",
      "        [0.9759, 0.9446, 0.9676],\n",
      "        [0.9697, 0.9805, 0.9075],\n",
      "        [0.9229, 0.9178, 0.9700],\n",
      "        [0.9099, 0.9035, 0.9263],\n",
      "        [0.9795, 0.9358, 0.9121],\n",
      "        [0.9424, 0.9995, 0.9602],\n",
      "        [0.9581, 0.9318, 0.9205],\n",
      "        [0.9072, 0.9820, 0.9229],\n",
      "        [0.9927, 0.9744, 0.9488],\n",
      "        [0.9053, 0.9993, 0.9360],\n",
      "        [0.9301, 0.9840, 0.9036],\n",
      "        [0.9267, 0.9899, 0.9059],\n",
      "        [0.9396, 0.9109, 0.9216],\n",
      "        [0.9760, 0.9981, 0.9941],\n",
      "        [0.9266, 0.9159, 0.9090],\n",
      "        [0.9091, 0.9976, 0.9272],\n",
      "        [0.9861, 0.9583, 0.9536],\n",
      "        [0.9516, 0.9655, 0.9894],\n",
      "        [0.9419, 0.9674, 0.9324],\n",
      "        [0.9791, 0.9144, 0.9257],\n",
      "        [0.9320, 0.9849, 0.9828],\n",
      "        [0.9420, 0.9102, 0.9698],\n",
      "        [0.9429, 0.9992, 0.9585],\n",
      "        [0.9928, 0.9130, 0.9941],\n",
      "        [0.9060, 0.9163, 0.9146]])\n"
     ]
    }
   ],
   "source": [
    "import torch\n",
    "fake_data = torch.randn((100,3))\n",
    "target_real_vertex = torch.FloatTensor(fake_data.size()).uniform_(0.9, 1.0)\n",
    "print(target_real_vertex)"
   ]
  }
 ],
 "metadata": {
  "kernelspec": {
   "display_name": "python_3d",
   "language": "python",
   "name": "python3"
  },
  "language_info": {
   "codemirror_mode": {
    "name": "ipython",
    "version": 3
   },
   "file_extension": ".py",
   "mimetype": "text/x-python",
   "name": "python",
   "nbconvert_exporter": "python",
   "pygments_lexer": "ipython3",
   "version": "3.8.18"
  }
 },
 "nbformat": 4,
 "nbformat_minor": 2
}

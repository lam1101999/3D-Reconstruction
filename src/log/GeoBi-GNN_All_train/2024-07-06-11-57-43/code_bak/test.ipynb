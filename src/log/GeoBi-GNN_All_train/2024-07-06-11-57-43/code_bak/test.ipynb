{
 "cells": [
  {
   "cell_type": "code",
   "execution_count": 15,
   "metadata": {},
   "outputs": [
    {
     "name": "stdout",
     "output_type": "stream",
     "text": [
      "(4, 3, 2)\n",
      "[[ 2.  3.]\n",
      " [ 8.  9.]\n",
      " [14. 15.]\n",
      " [20. 21.]]\n",
      "(4, 2)\n"
     ]
    }
   ],
   "source": [
    "import numpy as np\n",
    "\n",
    "data = np.array([[[0,1],[2,3],[4,5]],\n",
    "                 [[6,7],[8,9],[10,11]],\n",
    "                 [[12,13],[14,15],[16,17]],\n",
    "                 [[18,19],[20,21],[22,23]],])\n",
    "\n",
    "print(data.shape)\n",
    "\n",
    "output = np.mean(data, axis=1)\n",
    "print(output)\n",
    "print(output.shape)"
   ]
  },
  {
   "cell_type": "code",
   "execution_count": 16,
   "metadata": {},
   "outputs": [
    {
     "name": "stdout",
     "output_type": "stream",
     "text": [
      "(2, 3)\n",
      "[2. 5.]\n",
      "(2,)\n"
     ]
    }
   ],
   "source": [
    "import numpy as np\n",
    "\n",
    "data = np.array([[1,2,3],\n",
    "                 [4,5,6],])\n",
    "\n",
    "print(data.shape)\n",
    "\n",
    "output = np.mean(data, axis=1)\n",
    "print(output)\n",
    "print(output.shape)"
   ]
  },
  {
   "cell_type": "code",
   "execution_count": 17,
   "metadata": {},
   "outputs": [
    {
     "name": "stdout",
     "output_type": "stream",
     "text": [
      "(3, 2, 2)\n",
      "[[[0 1]\n",
      "  [2 3]]\n",
      "\n",
      " [[0 1]\n",
      "  [4 5]]\n",
      "\n",
      " [[0 1]\n",
      "  [5 2]]]\n"
     ]
    }
   ],
   "source": [
    "import numpy as np\n",
    "points = np.array([[0,1],[2,3],[4,5],[5,2]])\n",
    "indices = np.array([[0,1],[0,2],[0,3]])\n",
    "\n",
    "edge = points[indices]\n",
    "print(edge.shape)\n",
    "print(edge)"
   ]
  },
  {
   "cell_type": "code",
   "execution_count": 18,
   "metadata": {},
   "outputs": [
    {
     "name": "stdout",
     "output_type": "stream",
     "text": [
      "[5 5]\n"
     ]
    }
   ],
   "source": [
    "import numpy as np\n",
    "\n",
    "points = np.array([[0,1],\n",
    "                   [2,3],\n",
    "                   [4,5],\n",
    "                   [5,2]])\n",
    "\n",
    "print(points.max(0))\n"
   ]
  },
  {
   "cell_type": "markdown",
   "metadata": {},
   "source": [
    "$\\lambda $\n",
    "$$\n",
    "f(x) = \\int_{-\\infty}^{\\infty} e^{-x^2} dx\n",
    "$$"
   ]
  },
  {
   "cell_type": "code",
   "execution_count": 19,
   "metadata": {},
   "outputs": [
    {
     "name": "stdout",
     "output_type": "stream",
     "text": [
      "tensor([11.], dtype=torch.float64)\n",
      "tensor([2.], dtype=torch.float64)\n"
     ]
    }
   ],
   "source": [
    "import torch\n",
    "\n",
    "w = torch.tensor([5], dtype=float, requires_grad=True)\n",
    "b = torch.tensor([2], dtype=float, requires_grad=True)\n",
    "\n",
    "y = w * 3 + b\n",
    "y.backward()\n",
    "b.requires_grad_(False)\n",
    "y = w*4+b\n",
    "y.backward()\n",
    "b.requires_grad_(True)\n",
    "y = w*4+b\n",
    "y.backward()\n",
    "print(w.grad)\n",
    "print(b.grad)"
   ]
  },
  {
   "cell_type": "code",
   "execution_count": 20,
   "metadata": {},
   "outputs": [
    {
     "name": "stdout",
     "output_type": "stream",
     "text": [
      "tensor(2.0551)\n",
      "tensor(2.0551)\n",
      "tensor(0.8148)\n"
     ]
    }
   ],
   "source": [
    "import torch\n",
    "\n",
    "fake_data = torch.randn((100,3))\n",
    "target = torch.ones_like(fake_data)\n",
    "print(torch.nn.functional.mse_loss(fake_data, target))\n",
    "print((fake_data-target).pow(2).mean())\n",
    "\n",
    "fake_data = torch.nn.functional.sigmoid(fake_data)\n",
    "print(torch.nn.functional.binary_cross_entropy(fake_data, target))\n"
   ]
  },
  {
   "cell_type": "code",
   "execution_count": 21,
   "metadata": {},
   "outputs": [
    {
     "name": "stdout",
     "output_type": "stream",
     "text": [
      "tensor([[0.9313, 0.9424, 0.9214],\n",
      "        [0.9175, 0.9666, 0.9203],\n",
      "        [0.9767, 0.9263, 0.9669],\n",
      "        [0.9459, 0.9239, 0.9864],\n",
      "        [0.9510, 0.9449, 0.9654],\n",
      "        [0.9473, 0.9746, 0.9838],\n",
      "        [0.9952, 0.9320, 0.9871],\n",
      "        [0.9745, 0.9804, 0.9489],\n",
      "        [0.9151, 0.9040, 0.9526],\n",
      "        [0.9182, 0.9202, 0.9413],\n",
      "        [0.9221, 0.9307, 0.9057],\n",
      "        [0.9958, 0.9618, 0.9467],\n",
      "        [0.9059, 0.9102, 0.9625],\n",
      "        [0.9559, 0.9116, 0.9637],\n",
      "        [0.9135, 0.9028, 0.9489],\n",
      "        [0.9519, 0.9451, 0.9000],\n",
      "        [0.9244, 0.9436, 0.9979],\n",
      "        [0.9521, 0.9929, 0.9055],\n",
      "        [0.9549, 0.9164, 0.9351],\n",
      "        [0.9851, 0.9248, 0.9774],\n",
      "        [0.9340, 0.9011, 0.9166],\n",
      "        [0.9864, 0.9712, 0.9750],\n",
      "        [0.9082, 0.9643, 0.9827],\n",
      "        [0.9648, 0.9400, 0.9767],\n",
      "        [0.9915, 0.9535, 0.9781],\n",
      "        [0.9633, 0.9505, 0.9947],\n",
      "        [0.9430, 0.9556, 0.9058],\n",
      "        [0.9070, 0.9672, 0.9115],\n",
      "        [0.9714, 0.9432, 0.9370],\n",
      "        [0.9534, 0.9053, 0.9825],\n",
      "        [0.9712, 0.9762, 0.9174],\n",
      "        [0.9225, 0.9946, 0.9191],\n",
      "        [0.9688, 0.9724, 0.9726],\n",
      "        [0.9958, 0.9754, 0.9842],\n",
      "        [0.9435, 0.9564, 0.9333],\n",
      "        [0.9174, 0.9455, 0.9151],\n",
      "        [0.9704, 0.9607, 0.9628],\n",
      "        [0.9182, 0.9404, 0.9528],\n",
      "        [0.9064, 0.9964, 0.9414],\n",
      "        [0.9307, 0.9358, 0.9115],\n",
      "        [0.9621, 0.9892, 0.9737],\n",
      "        [0.9399, 0.9893, 0.9972],\n",
      "        [0.9027, 0.9188, 0.9535],\n",
      "        [0.9818, 0.9350, 0.9173],\n",
      "        [0.9576, 0.9097, 0.9895],\n",
      "        [0.9342, 0.9295, 0.9137],\n",
      "        [0.9165, 0.9096, 0.9997],\n",
      "        [0.9296, 0.9218, 0.9071],\n",
      "        [0.9034, 0.9719, 0.9096],\n",
      "        [0.9201, 0.9459, 0.9354],\n",
      "        [0.9917, 0.9901, 0.9967],\n",
      "        [0.9470, 0.9791, 0.9103],\n",
      "        [0.9791, 0.9065, 0.9755],\n",
      "        [0.9750, 0.9503, 0.9742],\n",
      "        [0.9068, 0.9311, 0.9360],\n",
      "        [0.9076, 0.9990, 0.9069],\n",
      "        [0.9952, 0.9591, 0.9427],\n",
      "        [0.9187, 0.9101, 0.9967],\n",
      "        [0.9221, 0.9010, 0.9260],\n",
      "        [0.9378, 0.9514, 0.9867],\n",
      "        [0.9299, 0.9498, 0.9164],\n",
      "        [0.9213, 0.9868, 0.9090],\n",
      "        [0.9766, 0.9154, 0.9691],\n",
      "        [0.9193, 0.9138, 0.9580],\n",
      "        [0.9349, 0.9730, 0.9558],\n",
      "        [0.9948, 0.9012, 0.9585],\n",
      "        [0.9980, 0.9586, 0.9371],\n",
      "        [0.9607, 0.9924, 0.9663],\n",
      "        [0.9763, 0.9555, 0.9772],\n",
      "        [0.9571, 0.9138, 0.9132],\n",
      "        [0.9790, 0.9481, 0.9172],\n",
      "        [0.9376, 0.9644, 0.9168],\n",
      "        [0.9931, 0.9109, 0.9746],\n",
      "        [0.9787, 0.9812, 0.9154],\n",
      "        [0.9276, 0.9692, 0.9564],\n",
      "        [0.9305, 0.9864, 0.9617],\n",
      "        [0.9955, 0.9572, 0.9701],\n",
      "        [0.9494, 0.9068, 0.9943],\n",
      "        [0.9157, 0.9378, 0.9896],\n",
      "        [0.9823, 0.9363, 0.9854],\n",
      "        [0.9419, 0.9162, 0.9796],\n",
      "        [0.9751, 0.9513, 0.9573],\n",
      "        [0.9030, 0.9654, 0.9909],\n",
      "        [0.9244, 0.9969, 0.9428],\n",
      "        [0.9065, 0.9883, 0.9128],\n",
      "        [0.9171, 0.9626, 0.9719],\n",
      "        [0.9573, 0.9636, 0.9322],\n",
      "        [0.9301, 0.9186, 0.9676],\n",
      "        [0.9775, 0.9572, 0.9397],\n",
      "        [0.9784, 0.9158, 0.9771],\n",
      "        [0.9415, 0.9664, 0.9647],\n",
      "        [0.9413, 0.9217, 0.9622],\n",
      "        [0.9239, 0.9719, 0.9610],\n",
      "        [0.9523, 0.9461, 0.9770],\n",
      "        [0.9373, 0.9925, 0.9099],\n",
      "        [0.9664, 0.9466, 0.9949],\n",
      "        [0.9699, 0.9883, 0.9860],\n",
      "        [0.9883, 0.9957, 0.9795],\n",
      "        [0.9653, 0.9253, 0.9985],\n",
      "        [0.9436, 0.9770, 0.9251]])\n"
     ]
    }
   ],
   "source": [
    "import torch\n",
    "fake_data = torch.randn((100,3))\n",
    "target_real_vertex = torch.FloatTensor(fake_data.size()).uniform_(0.9, 1.0)\n",
    "print(target_real_vertex)"
   ]
  },
  {
   "cell_type": "code",
   "execution_count": 22,
   "metadata": {},
   "outputs": [
    {
     "name": "stdout",
     "output_type": "stream",
     "text": [
      "tensor([[-0.0952],\n",
      "        [ 0.2405],\n",
      "        [ 0.1302],\n",
      "        [-0.4918],\n",
      "        [ 0.1349]])\n",
      "tensor([[-0.0952],\n",
      "        [ 0.2405],\n",
      "        [ 0.1302],\n",
      "        [-0.4918],\n",
      "        [ 0.1349]], grad_fn=<AddmmBackward0>)\n"
     ]
    }
   ],
   "source": [
    "import torch\n",
    "\n",
    "fake_data = torch.randn((5,3))\n",
    "layer_1 = torch.nn.Linear(3,1)\n",
    "layer_2 = torch.nn.Linear(1,1)\n",
    "target_real_vertex = torch.ones((5,1))\n",
    "\n",
    "predict = layer_1(fake_data)\n",
    "predict = predict.detach()\n",
    "print(predict)\n",
    "predict = layer_2(predict)\n",
    "loss_value = torch.nn.functional.mse_loss(predict, target_real_vertex)\n",
    "optimizer_1 = torch.optim.Adam(layer_1.parameters(), lr=0.1)\n",
    "optimizer_2 = torch.optim.Adam(layer_2.parameters(), lr=0.1)\n",
    "\n",
    "loss_value.backward()\n",
    "optimizer_1.step()\n",
    "optimizer_2.step()\n",
    "predict_again = layer_1(fake_data)\n",
    "print(predict_again)"
   ]
  },
  {
   "cell_type": "code",
   "execution_count": 23,
   "metadata": {},
   "outputs": [
    {
     "name": "stdout",
     "output_type": "stream",
     "text": [
      "tensor([-1.0000,  0.9600], dtype=torch.float64)\n"
     ]
    }
   ],
   "source": [
    "import torch\n",
    "\n",
    "a = torch.tensor([[1,1,1,1],\n",
    "                  [4,5,6,6]], dtype=float)\n",
    "\n",
    "b = torch.tensor([[-2,-2,-2,-2],\n",
    "                  [1,1,1,2]], dtype=float)\n",
    "\n",
    "print(torch.nn.functional.cosine_similarity(a, b, dim=1))"
   ]
  },
  {
   "cell_type": "code",
   "execution_count": 24,
   "metadata": {},
   "outputs": [
    {
     "name": "stdout",
     "output_type": "stream",
     "text": [
      "torch.Size([1, 3])\n"
     ]
    }
   ],
   "source": [
    "import torch\n",
    "\n",
    "a = torch.ones((3))\n",
    "a = a if len(a.size())==2 else a.unsqueeze(0)\n",
    "print(a.size())"
   ]
  },
  {
   "cell_type": "code",
   "execution_count": 25,
   "metadata": {},
   "outputs": [
    {
     "data": {
      "image/png": "[encoded data removed]",
      "text/plain": [
       "<Figure size 1200x600 with 2 Axes>"
      ]
     },
     "metadata": {},
     "output_type": "display_data"
    }
   ],
   "source": [
    "import matplotlib.pyplot as plt\n",
    "import pandas as pd\n",
    "import os\n",
    "# plt.rcParams.update({'font.size': 14})\n",
    "\n",
    "# Read file from CSV file\n",
    "geobi_df = pd.read_csv(r\"..\\log\\GeoBi-GNN_Synthetic_train\\train_geo_bi\\excel.csv\")\n",
    "ours_df = pd.read_csv(r\"..\\log\\GeoBi-GNN_Synthetic_train\\train_gan\\excel.csv\")\n",
    "\n",
    "geobi_df.head()\n",
    "# Plot vertice loss\n",
    "plt.figure(figsize=(12,6))\n",
    "plt.subplot(1, 2, 1)\n",
    "plt.plot(geobi_df[\"epoch\"], geobi_df[\"vertice_error\"], label=\"GeoBi\")\n",
    "plt.plot(ours_df[\"epoch\"], ours_df[\"vertice_error\"], label=\"Ours\")\n",
    "plt.xlabel(\"Epoch\")\n",
    "plt.ylabel(\"Vertice Loss\")\n",
    "plt.legend()\n",
    "\n",
    "# Plot facet loss\n",
    "plt.subplot(1, 2, 2)\n",
    "plt.plot(geobi_df[\"epoch\"], geobi_df[\"facet_error\"], label=\"GeoBi\")\n",
    "plt.plot(ours_df[\"epoch\"], ours_df[\"facet_error\"], label=\"Ours\")\n",
    "plt.xlabel(\"Epoch\")\n",
    "plt.ylabel(\"Facet Loss\")\n",
    "plt.legend()\n",
    "\n",
    "plt.show()\n"
   ]
  },
  {
   "cell_type": "code",
   "execution_count": 26,
   "metadata": {},
   "outputs": [
    {
     "ename": "FileNotFoundError",
     "evalue": "File (e:\\thesis\\3D-Reconstruction\\src\\train\\block_n1.obj) not found",
     "output_type": "error",
     "traceback": [
      "\u001b[1;31m---------------------------------------------------------------------------\u001b[0m",
      "\u001b[1;31mFileNotFoundError\u001b[0m                         Traceback (most recent call last)",
      "Cell \u001b[1;32mIn[26], line 6\u001b[0m\n\u001b[0;32m      3\u001b[0m \u001b[38;5;28;01mimport\u001b[39;00m \u001b[38;5;21;01mpyvista\u001b[39;00m \u001b[38;5;28;01mas\u001b[39;00m \u001b[38;5;21;01mpv\u001b[39;00m\n\u001b[0;32m      5\u001b[0m file \u001b[38;5;241m=\u001b[39m \u001b[38;5;124m\"\u001b[39m\u001b[38;5;124mblock_n1.obj\u001b[39m\u001b[38;5;124m\"\u001b[39m\n\u001b[1;32m----> 6\u001b[0m mesh \u001b[38;5;241m=\u001b[39m \u001b[43mpv\u001b[49m\u001b[38;5;241;43m.\u001b[39;49m\u001b[43mread\u001b[49m\u001b[43m(\u001b[49m\u001b[43mfile\u001b[49m\u001b[43m)\u001b[49m\n\u001b[0;32m      9\u001b[0m points \u001b[38;5;241m=\u001b[39m mesh\u001b[38;5;241m.\u001b[39mpoints\n\u001b[0;32m     10\u001b[0m faces \u001b[38;5;241m=\u001b[39m np\u001b[38;5;241m.\u001b[39mreshape(mesh\u001b[38;5;241m.\u001b[39mfaces,(\u001b[38;5;241m-\u001b[39m\u001b[38;5;241m1\u001b[39m,\u001b[38;5;241m4\u001b[39m))[:,\u001b[38;5;241m1\u001b[39m:]\n",
      "File \u001b[1;32mc:\\Users\\nguye\\anaconda3\\envs\\python_3d\\lib\\site-packages\\pyvista\\core\\utilities\\fileio.py:174\u001b[0m, in \u001b[0;36mread\u001b[1;34m(filename, force_ext, file_format, progress_bar)\u001b[0m\n\u001b[0;32m    172\u001b[0m filename \u001b[38;5;241m=\u001b[39m os\u001b[38;5;241m.\u001b[39mpath\u001b[38;5;241m.\u001b[39mabspath(os\u001b[38;5;241m.\u001b[39mpath\u001b[38;5;241m.\u001b[39mexpanduser(\u001b[38;5;28mstr\u001b[39m(filename)))\n\u001b[0;32m    173\u001b[0m \u001b[38;5;28;01mif\u001b[39;00m \u001b[38;5;129;01mnot\u001b[39;00m os\u001b[38;5;241m.\u001b[39mpath\u001b[38;5;241m.\u001b[39misfile(filename):\n\u001b[1;32m--> 174\u001b[0m     \u001b[38;5;28;01mraise\u001b[39;00m \u001b[38;5;167;01mFileNotFoundError\u001b[39;00m(\u001b[38;5;124mf\u001b[39m\u001b[38;5;124m'\u001b[39m\u001b[38;5;124mFile (\u001b[39m\u001b[38;5;132;01m{\u001b[39;00mfilename\u001b[38;5;132;01m}\u001b[39;00m\u001b[38;5;124m) not found\u001b[39m\u001b[38;5;124m'\u001b[39m)\n\u001b[0;32m    176\u001b[0m \u001b[38;5;66;03m# Read file using meshio.read if file_format is present\u001b[39;00m\n\u001b[0;32m    177\u001b[0m \u001b[38;5;28;01mif\u001b[39;00m file_format:\n",
      "\u001b[1;31mFileNotFoundError\u001b[0m: File (e:\\thesis\\3D-Reconstruction\\src\\train\\block_n1.obj) not found"
     ]
    }
   ],
   "source": [
    "import openmesh as om\n",
    "import numpy as np\n",
    "import pyvista as pv\n",
    "\n",
    "file = \"block_n1.obj\"\n",
    "mesh = pv.read(file)\n",
    "\n",
    "\n",
    "points = mesh.points\n",
    "faces = np.reshape(mesh.faces,(-1,4))[:,1:]\n",
    "\n",
    "print(points.shape)\n",
    "print(faces.shape)\n",
    "\n",
    "\n",
    "openmesh_mesh = om.TriMesh()\n",
    "openmesh_mesh.add_vertices(points)\n",
    "openmesh_mesh.add_faces(faces)\n",
    "\n",
    "print(openmesh_mesh.points().shape)\n",
    "print(openmesh_mesh.fv_indices().shape)\n",
    "# for face in faces:\n",
    "    # h0,h1,h2 = \n",
    "    # openmesh_mesh.add_face(*face)\n",
    "# print(openmesh_mesh)\n"
   ]
  },
  {
   "cell_type": "code",
   "execution_count": null,
   "metadata": {},
   "outputs": [
    {
     "name": "stdout",
     "output_type": "stream",
     "text": [
      "<class '_io.TextIOWrapper'>\n",
      "(8771, 3)\n"
     ]
    }
   ],
   "source": [
    "\n",
    "with open(\"block_n1.obj\") as f:\n",
    "    mesh = om.read_trimesh(file)\n",
    "    print(type(f))\n",
    "    print(mesh.points().shape)"
   ]
  },
  {
   "cell_type": "code",
   "execution_count": null,
   "metadata": {},
   "outputs": [
    {
     "name": "stdout",
     "output_type": "stream",
     "text": [
      "torch.Size([1, 8])\n",
      "torch.Size([1, 8, 3])\n",
      "torch.Size([1, 8, 1])\n",
      "tensor([[-0.3847, -0.2522,  0.8141]], dtype=torch.float64,\n",
      "       grad_fn=<SumBackward1>)\n"
     ]
    }
   ],
   "source": [
    "import torch\n",
    "from torch_geometric.utils import degree\n",
    "x_i = torch.tensor([[1,2,3,4,5,6]], dtype=float)\n",
    "x_j = torch.tensor([[1,1,1,2,3,4]], dtype=float)\n",
    "out_channels = 3\n",
    "head = 8\n",
    "u = torch.nn.Linear(6,head,dtype=float)\n",
    "lin = torch.nn.Linear(6,head*out_channels,dtype=float)\n",
    "\n",
    "q = u(x_j-x_i) + 7\n",
    "q = torch.nn.functional.softmax(q,dim=1)\n",
    "print(q.shape)\n",
    "result = lin(x_j)\n",
    "result = result.view(result.size(0), head,-1)\n",
    "print(result.shape)\n",
    "\n",
    "q = q.view(-1, head, 1)\n",
    "print(q.shape)\n",
    "print((result*q).sum(dim=1))\n"
   ]
  },
  {
   "cell_type": "code",
   "execution_count": 4,
   "metadata": {},
   "outputs": [
    {
     "name": "stderr",
     "output_type": "stream",
     "text": [
      "c:\\Users\\nguye\\anaconda3\\envs\\python_3d\\lib\\site-packages\\pyvista\\jupyter\\notebook.py:34: UserWarning: Failed to use notebook backend: \n",
      "\n",
      "No module named 'trame'\n",
      "\n",
      "Falling back to a static output.\n",
      "  warnings.warn(\n"
     ]
    },
    {
     "data": {
      "image/png": "[encoded data removed]",
      "text/plain": [
       "<PIL.Image.Image image mode=RGB size=1024x768>"
      ]
     },
     "metadata": {},
     "output_type": "display_data"
    },
    {
     "name": "stderr",
     "output_type": "stream",
     "text": [
      "c:\\Users\\nguye\\anaconda3\\envs\\python_3d\\lib\\site-packages\\pyvista\\jupyter\\notebook.py:34: UserWarning: Failed to use notebook backend: \n",
      "\n",
      "No module named 'trame'\n",
      "\n",
      "Falling back to a static output.\n",
      "  warnings.warn(\n"
     ]
    },
    {
     "data": {
      "image/png": "[encoded data removed]",
      "text/plain": [
       "<PIL.Image.Image image mode=RGB size=1024x768>"
      ]
     },
     "metadata": {},
     "output_type": "display_data"
    },
    {
     "name": "stderr",
     "output_type": "stream",
     "text": [
      "c:\\Users\\nguye\\anaconda3\\envs\\python_3d\\lib\\site-packages\\pyvista\\jupyter\\notebook.py:34: UserWarning: Failed to use notebook backend: \n",
      "\n",
      "No module named 'trame'\n",
      "\n",
      "Falling back to a static output.\n",
      "  warnings.warn(\n"
     ]
    },
    {
     "data": {
      "image/png": "[encoded data removed]",
      "text/plain": [
       "<PIL.Image.Image image mode=RGB size=1024x768>"
      ]
     },
     "metadata": {},
     "output_type": "display_data"
    },
    {
     "ename": "ValueError",
     "evalue": "Invalid file extension for this data type. Must be one of: dict_keys(['.vtu', '.vtk'])",
     "output_type": "error",
     "traceback": [
      "\u001b[1;31m---------------------------------------------------------------------------\u001b[0m",
      "\u001b[1;31mValueError\u001b[0m                                Traceback (most recent call last)",
      "Cell \u001b[1;32mIn[4], line 23\u001b[0m\n\u001b[0;32m     21\u001b[0m voxels \u001b[38;5;241m=\u001b[39m pv\u001b[38;5;241m.\u001b[39mvoxelize(surface, density\u001b[38;5;241m=\u001b[39msurface\u001b[38;5;241m.\u001b[39mlength \u001b[38;5;241m/\u001b[39m \u001b[38;5;241m70\u001b[39m, check_surface\u001b[38;5;241m=\u001b[39m\u001b[38;5;28;01mFalse\u001b[39;00m)\n\u001b[0;32m     22\u001b[0m voxels\u001b[38;5;241m.\u001b[39mplot(show_edges\u001b[38;5;241m=\u001b[39m\u001b[38;5;28;01mTrue\u001b[39;00m, cpos\u001b[38;5;241m=\u001b[39mcpos, show_axes\u001b[38;5;241m=\u001b[39m\u001b[38;5;28;01mFalse\u001b[39;00m)\n\u001b[1;32m---> 23\u001b[0m \u001b[43mvoxels\u001b[49m\u001b[38;5;241;43m.\u001b[39;49m\u001b[43msave\u001b[49m\u001b[43m(\u001b[49m\u001b[38;5;124;43m\"\u001b[39;49m\u001b[38;5;124;43mtest.obj\u001b[39;49m\u001b[38;5;124;43m\"\u001b[39;49m\u001b[43m)\u001b[49m\n",
      "File \u001b[1;32mc:\\Users\\nguye\\anaconda3\\envs\\python_3d\\lib\\site-packages\\pyvista\\core\\dataobject.py:141\u001b[0m, in \u001b[0;36mDataObject.save\u001b[1;34m(self, filename, binary, texture)\u001b[0m\n\u001b[0;32m    139\u001b[0m file_ext \u001b[38;5;241m=\u001b[39m file_path\u001b[38;5;241m.\u001b[39msuffix\n\u001b[0;32m    140\u001b[0m \u001b[38;5;28;01mif\u001b[39;00m file_ext \u001b[38;5;129;01mnot\u001b[39;00m \u001b[38;5;129;01min\u001b[39;00m \u001b[38;5;28mself\u001b[39m\u001b[38;5;241m.\u001b[39m_WRITERS:\n\u001b[1;32m--> 141\u001b[0m     \u001b[38;5;28;01mraise\u001b[39;00m \u001b[38;5;167;01mValueError\u001b[39;00m(\n\u001b[0;32m    142\u001b[0m         \u001b[38;5;124m'\u001b[39m\u001b[38;5;124mInvalid file extension for this data type.\u001b[39m\u001b[38;5;124m'\u001b[39m\n\u001b[0;32m    143\u001b[0m         \u001b[38;5;124mf\u001b[39m\u001b[38;5;124m'\u001b[39m\u001b[38;5;124m Must be one of: \u001b[39m\u001b[38;5;132;01m{\u001b[39;00m\u001b[38;5;28mself\u001b[39m\u001b[38;5;241m.\u001b[39m_WRITERS\u001b[38;5;241m.\u001b[39mkeys()\u001b[38;5;132;01m}\u001b[39;00m\u001b[38;5;124m'\u001b[39m\n\u001b[0;32m    144\u001b[0m     )\n\u001b[0;32m    146\u001b[0m \u001b[38;5;66;03m# store complex and bitarray types as field data\u001b[39;00m\n\u001b[0;32m    147\u001b[0m \u001b[38;5;28mself\u001b[39m\u001b[38;5;241m.\u001b[39m_store_metadata()\n",
      "\u001b[1;31mValueError\u001b[0m: Invalid file extension for this data type. Must be one of: dict_keys(['.vtu', '.vtk'])"
     ]
    }
   ],
   "source": [
    "import pyvista as pv\n",
    "from pyvista import examples\n",
    "\n",
    "# Load a surface to voxelize\n",
    "# cpos = [\n",
    "#     (7.656346967151718, -9.802071079151158, -11.021236183314311),\n",
    "#     (0.2224512272564101, -0.4594554282112895, 0.5549738359311297),\n",
    "#     (-0.6279216753504941, -0.7513057097368635, 0.20311105371647392),\n",
    "# ]\n",
    "cpos = [(0.2, 0.3, 2), (0, 0, 0), (0, 1, 0)]\n",
    "# surface = pv.Sphere(center=(0, 0, 0), radius=0.5, phi_resolution=20, theta_resolution=20)\n",
    "surface = pv.read(\"TuongBaNguHanh11.obj\")\n",
    "\n",
    "# Mesh\n",
    "p1 = pv.Plotter()\n",
    "surface.plot(cpos=cpos, show_edges=True, show_axes=False)\n",
    "# Point cloud\n",
    "surface.plot(style=\"points\",cpos=cpos, point_size=20, show_axes=False)\n",
    "\n",
    "# Voxel\n",
    "voxels = pv.voxelize(surface, density=surface.length / 70, check_surface=False)\n",
    "voxels.plot(show_edges=True, cpos=cpos, show_axes=False)\n",
    "voxels.save(\"test.obj\")"
   ]
  },
  {
   "cell_type": "code",
   "execution_count": 5,
   "metadata": {},
   "outputs": [
    {
     "name": "stdout",
     "output_type": "stream",
     "text": [
      "torch.Size([3, 2, 6])\n",
      "torch.Size([3, 6])\n"
     ]
    }
   ],
   "source": [
    "import torch\n",
    "\n",
    "# in:5\n",
    "# out: 6\n",
    "# head: 2\n",
    "# neighbor, feature: (3,5)\n",
    "# q: (3,2) after softmax q:(3,2)\n",
    "# x_j: (3, 12) after view x_j:(3,2,6)\n",
    "# q after view q:(3,2,1)\n",
    "# x_j*q_view: (3,2,6)\n",
    "# after sum (3,6)\n",
    "x_j = torch.rand(3,2,6)\n",
    "q_view = torch.rand(3,2,1)\n",
    "\n",
    "result = x_j*q_view\n",
    "print(result.size())\n",
    "result = result.sum(dim=1)\n",
    "print(result.size())"
   ]
  }
 ],
 "metadata": {
  "kernelspec": {
   "display_name": "python_3d",
   "language": "python",
   "name": "python3"
  },
  "language_info": {
   "codemirror_mode": {
    "name": "ipython",
    "version": 3
   },
   "file_extension": ".py",
   "mimetype": "text/x-python",
   "name": "python",
   "nbconvert_exporter": "python",
   "pygments_lexer": "ipython3",
   "version": "3.8.18"
  }
 },
 "nbformat": 4,
 "nbformat_minor": 2
}
